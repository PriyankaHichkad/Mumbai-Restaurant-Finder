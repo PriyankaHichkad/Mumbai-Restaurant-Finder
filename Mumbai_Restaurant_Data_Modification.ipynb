{
 "cells": [
  {
   "cell_type": "markdown",
   "id": "2a396014-7265-4ba6-88ef-71cbdec06b1c",
   "metadata": {},
   "source": [
    "# 🍽️ Mumbai Restaurant Finder Project – A Foodie's Data-Driven Quest!\n",
    "\n",
    "Hello there!👋 I'm Priyanka — a passionate foodie and an even more passionate data analyst in the making. This project is a delightful mix of both my worlds: food and data.\n",
    "\n",
    "While most people scroll endlessly through food delivery apps or ask friends for restaurant recommendations, I decided to take the geekier route — building an **interactive dashboard to find restaurants in Mumbai that suit my taste**, using Power BI. But before we get to the juicy, visual goodness 🍕🍰🍷, it all starts here — with some good old data cleaning 🧹.\n",
    "\n",
    "So let's see what's in the menu, i.e. the dataset I'm working with, which is the **Zomato Mumbai dataset**, originally sourced from Kaggle. It's about **four years old**, so while the data might have some vintage charm like a fine wine 🥂, you might want to cross-check if the restaurant still exists before you show up there craving sweets at midnight. 😅\n",
    "This CSV file contains:\n",
    "- 🏠 Restaurant name\n",
    "- 📍 Address and the Locality in Mumbai\n",
    "- 🍽️ Cuisines offered\n",
    "- ⏰ Opening hours\n",
    "- 💸 Price range\n",
    "- ⭐ Ratings\n",
    "- 🗳️ Votes\n",
    "- 📝 Reviews\n",
    "- 🔗 URL\n",
    "\n",
    "But before diving into analysis or fancy visuals, I had to give this data a fresh look, thus doing some data cleaning.\n",
    "\n",
    "First up: duplicates. I removed repeated entries because finding the same restaurant listed five times doesn’t make the food any tastier. Then came the missing values. Blank fields are like ordering pizzas🍕 and getting just the crust. I also encoded reviews that were in multiple languages (like turning “Velmi dobré” or “Muy Bueno” into “Very Good”), because good food speaks all tongues, but clean data only speaks one. Trimming and formatting the address column✂️ was also necessary because a long, messy address might make the user (mainly me😅) very confused. And lastly, I made sure the categorical columns were neat, uniform, and ready to serve.\n",
    "\n",
    "As someone who lives for late-night cravings😋, Saturday party nights, impromptu brunches, and the occasional cake binge, I thought: why not build something that helps me (and others like me) discover places that match our vibe and appetite? This isn't just a project, it's my **taste buds meeting tech**.\n",
    "\n",
    "This entire project is not just a technical exercise, it’s something I genuinely enjoyed❤️ doing, because it ties back to my personality and passion. It’s data that means something to me. Whether it’s a midnight craving or a brunch plan, this dashboard (once done) might just be my go-to way to discover new places in Mumbai, and I hope it helps others too!🙌\n",
    "  \n",
    "So, welcome to my foodie-fueled adventure. Let’s clean some data and eventually, find some seriously good eats.\n",
    "\n",
    "Let’s dive in."
   ]
  },
  {
   "cell_type": "markdown",
   "id": "ec812c77-b38b-41fb-8890-87de3a56801a",
   "metadata": {},
   "source": [
    "## Import Python Libraries"
   ]
  },
  {
   "cell_type": "code",
   "execution_count": 4,
   "id": "d1ecb5ec-6473-42d8-9eb5-10705693f056",
   "metadata": {},
   "outputs": [],
   "source": [
    "import pandas as pd\n",
    "import numpy as np"
   ]
  },
  {
   "cell_type": "markdown",
   "id": "d305dcb5-a43a-4088-bf35-69f8bff97edc",
   "metadata": {},
   "source": [
    "## Import The Dataset\n",
    "I imported the dataset, which was a CSV file, using pandas. In this particular dataset, the delimiter was not ',' but '|'.\n",
    "\n",
    "These are all the small things that one gets to know after opening the file. You can also drop unwanted columns at the start in the brackets, and many other things. I wanted to take everything slowly and step by step."
   ]
  },
  {
   "cell_type": "code",
   "execution_count": 5,
   "id": "ce8fdbb7-2bd1-447f-aa05-303146d4a2b4",
   "metadata": {},
   "outputs": [],
   "source": [
    "df=pd.read_csv('Zomato_Mumbai_Dataset.csv', delimiter='|')"
   ]
  },
  {
   "cell_type": "markdown",
   "id": "9b09f066-1ecc-4f80-9191-44a573780f93",
   "metadata": {},
   "source": [
    "## Check The Data\n",
    "Note all the columns available and what type of content they contain. This will help me in understanding how my data looks overall, just by seeing the top 5 rows using the head() function. The sample(5) function is used to pick 5 random rows from the dataset and is mainly used when the data is biased."
   ]
  },
  {
   "cell_type": "code",
   "execution_count": 6,
   "id": "be8b71e7-8b5f-4446-91ed-0e2fc4cbaa72",
   "metadata": {},
   "outputs": [
    {
     "data": {
      "text/html": [
       "<div>\n",
       "<style scoped>\n",
       "    .dataframe tbody tr th:only-of-type {\n",
       "        vertical-align: middle;\n",
       "    }\n",
       "\n",
       "    .dataframe tbody tr th {\n",
       "        vertical-align: top;\n",
       "    }\n",
       "\n",
       "    .dataframe thead th {\n",
       "        text-align: right;\n",
       "    }\n",
       "</style>\n",
       "<table border=\"1\" class=\"dataframe\">\n",
       "  <thead>\n",
       "    <tr style=\"text-align: right;\">\n",
       "      <th></th>\n",
       "      <th>NAME</th>\n",
       "      <th>PRICE</th>\n",
       "      <th>CUSINE_CATEGORY</th>\n",
       "      <th>CITY</th>\n",
       "      <th>REGION</th>\n",
       "      <th>URL</th>\n",
       "      <th>PAGE NO</th>\n",
       "      <th>CUSINE TYPE</th>\n",
       "      <th>TIMING</th>\n",
       "      <th>RATING_TYPE</th>\n",
       "      <th>RATING</th>\n",
       "      <th>VOTES</th>\n",
       "    </tr>\n",
       "  </thead>\n",
       "  <tbody>\n",
       "    <tr>\n",
       "      <th>0</th>\n",
       "      <td>Hitchki</td>\n",
       "      <td>1200</td>\n",
       "      <td>Modern Indian,North Indian,Chinese,Momos,Birya...</td>\n",
       "      <td>Mumbai</td>\n",
       "      <td>First International Financial Centre-- Bandra ...</td>\n",
       "      <td>https://www.zomato.com/mumbai/hitchki-bandra-k...</td>\n",
       "      <td>1</td>\n",
       "      <td>Casual Dining</td>\n",
       "      <td>12noon to 130am(Mon-Sun)</td>\n",
       "      <td>Excellent</td>\n",
       "      <td>4.9</td>\n",
       "      <td>3529</td>\n",
       "    </tr>\n",
       "    <tr>\n",
       "      <th>1</th>\n",
       "      <td>Baba Falooda</td>\n",
       "      <td>400</td>\n",
       "      <td>Desserts,Ice Cream,Beverages</td>\n",
       "      <td>Mumbai</td>\n",
       "      <td>Mahim</td>\n",
       "      <td>https://www.zomato.com/mumbai/baba-falooda-mah...</td>\n",
       "      <td>1</td>\n",
       "      <td>Dessert Parlor</td>\n",
       "      <td>2pm to 1am(Mon-Sun)</td>\n",
       "      <td>Very Good</td>\n",
       "      <td>4.4</td>\n",
       "      <td>1723</td>\n",
       "    </tr>\n",
       "    <tr>\n",
       "      <th>2</th>\n",
       "      <td>Chin Chin Chu</td>\n",
       "      <td>1800</td>\n",
       "      <td>Asian,Chinese</td>\n",
       "      <td>Mumbai</td>\n",
       "      <td>Juhu</td>\n",
       "      <td>https://www.zomato.com/mumbai/chin-chin-chu-ju...</td>\n",
       "      <td>1</td>\n",
       "      <td>Casual Dining</td>\n",
       "      <td>12noon to 1am(Mon-Sun)</td>\n",
       "      <td>Very Good</td>\n",
       "      <td>4.2</td>\n",
       "      <td>337</td>\n",
       "    </tr>\n",
       "    <tr>\n",
       "      <th>3</th>\n",
       "      <td>Butterfly High</td>\n",
       "      <td>1000</td>\n",
       "      <td>Modern Indian</td>\n",
       "      <td>Mumbai</td>\n",
       "      <td>Bandra Kurla Complex</td>\n",
       "      <td>https://www.zomato.com/mumbai/butterfly-high-b...</td>\n",
       "      <td>1</td>\n",
       "      <td>Bar</td>\n",
       "      <td>12noon to 130am(Mon-Sun)</td>\n",
       "      <td>Very Good</td>\n",
       "      <td>4.3</td>\n",
       "      <td>1200</td>\n",
       "    </tr>\n",
       "    <tr>\n",
       "      <th>4</th>\n",
       "      <td>BKC  DIVE</td>\n",
       "      <td>1200</td>\n",
       "      <td>North Indian,Chinese,Continental</td>\n",
       "      <td>Mumbai</td>\n",
       "      <td>Bandra Kurla Complex</td>\n",
       "      <td>https://www.zomato.com/mumbai/bkc-dive-bandra-...</td>\n",
       "      <td>1</td>\n",
       "      <td>Bar</td>\n",
       "      <td>1130am to 1am(Mon-Sun)</td>\n",
       "      <td>Veľmi dobré</td>\n",
       "      <td>4.4</td>\n",
       "      <td>5995</td>\n",
       "    </tr>\n",
       "  </tbody>\n",
       "</table>\n",
       "</div>"
      ],
      "text/plain": [
       "             NAME PRICE                                    CUSINE_CATEGORY  \\\n",
       "0         Hitchki  1200  Modern Indian,North Indian,Chinese,Momos,Birya...   \n",
       "1    Baba Falooda   400                       Desserts,Ice Cream,Beverages   \n",
       "2   Chin Chin Chu  1800                                      Asian,Chinese   \n",
       "3  Butterfly High  1000                                      Modern Indian   \n",
       "4       BKC  DIVE  1200                   North Indian,Chinese,Continental   \n",
       "\n",
       "     CITY                                             REGION  \\\n",
       "0  Mumbai  First International Financial Centre-- Bandra ...   \n",
       "1  Mumbai                                              Mahim   \n",
       "2  Mumbai                                               Juhu   \n",
       "3  Mumbai                               Bandra Kurla Complex   \n",
       "4  Mumbai                               Bandra Kurla Complex   \n",
       "\n",
       "                                                 URL PAGE NO     CUSINE TYPE  \\\n",
       "0  https://www.zomato.com/mumbai/hitchki-bandra-k...       1   Casual Dining   \n",
       "1  https://www.zomato.com/mumbai/baba-falooda-mah...       1  Dessert Parlor   \n",
       "2  https://www.zomato.com/mumbai/chin-chin-chu-ju...       1   Casual Dining   \n",
       "3  https://www.zomato.com/mumbai/butterfly-high-b...       1             Bar   \n",
       "4  https://www.zomato.com/mumbai/bkc-dive-bandra-...       1             Bar   \n",
       "\n",
       "                     TIMING  RATING_TYPE RATING VOTES  \n",
       "0  12noon to 130am(Mon-Sun)    Excellent    4.9  3529  \n",
       "1       2pm to 1am(Mon-Sun)    Very Good    4.4  1723  \n",
       "2    12noon to 1am(Mon-Sun)    Very Good    4.2   337  \n",
       "3  12noon to 130am(Mon-Sun)    Very Good    4.3  1200  \n",
       "4    1130am to 1am(Mon-Sun)  Veľmi dobré    4.4  5995  "
      ]
     },
     "execution_count": 6,
     "metadata": {},
     "output_type": "execute_result"
    }
   ],
   "source": [
    "df.head()"
   ]
  },
  {
   "cell_type": "code",
   "execution_count": 7,
   "id": "8a4b2421-6de1-447b-b77f-1d7aa7a55bd8",
   "metadata": {},
   "outputs": [
    {
     "data": {
      "text/html": [
       "<div>\n",
       "<style scoped>\n",
       "    .dataframe tbody tr th:only-of-type {\n",
       "        vertical-align: middle;\n",
       "    }\n",
       "\n",
       "    .dataframe tbody tr th {\n",
       "        vertical-align: top;\n",
       "    }\n",
       "\n",
       "    .dataframe thead th {\n",
       "        text-align: right;\n",
       "    }\n",
       "</style>\n",
       "<table border=\"1\" class=\"dataframe\">\n",
       "  <thead>\n",
       "    <tr style=\"text-align: right;\">\n",
       "      <th></th>\n",
       "      <th>NAME</th>\n",
       "      <th>PRICE</th>\n",
       "      <th>CUSINE_CATEGORY</th>\n",
       "      <th>CITY</th>\n",
       "      <th>REGION</th>\n",
       "      <th>URL</th>\n",
       "      <th>PAGE NO</th>\n",
       "      <th>CUSINE TYPE</th>\n",
       "      <th>TIMING</th>\n",
       "      <th>RATING_TYPE</th>\n",
       "      <th>RATING</th>\n",
       "      <th>VOTES</th>\n",
       "    </tr>\n",
       "  </thead>\n",
       "  <tbody>\n",
       "    <tr>\n",
       "      <th>4290</th>\n",
       "      <td>Suyog Restaurant &amp; Bar</td>\n",
       "      <td>750</td>\n",
       "      <td>North Indian,Chinese,Mughlai,Seafood</td>\n",
       "      <td>Mumbai</td>\n",
       "      <td>Wadala</td>\n",
       "      <td>https://www.zomato.com/mumbai/suyog-restaurant...</td>\n",
       "      <td>340</td>\n",
       "      <td>Casual Dining</td>\n",
       "      <td>1130am to 3pm,630pm to 12midnight(Mon-Sun)</td>\n",
       "      <td>Average</td>\n",
       "      <td>3.4</td>\n",
       "      <td>71</td>\n",
       "    </tr>\n",
       "    <tr>\n",
       "      <th>14764</th>\n",
       "      <td>Ebony Fine-Dine</td>\n",
       "      <td>1600</td>\n",
       "      <td>Continental,Chinese,North Indian,Seafood</td>\n",
       "      <td>Mumbai</td>\n",
       "      <td>Kandivali East</td>\n",
       "      <td>https://www.zomato.com/ebony/info</td>\n",
       "      <td>93</td>\n",
       "      <td>Casual Dining</td>\n",
       "      <td>1130am to 3pm,7pm to 1230AM(Mon-Sun)</td>\n",
       "      <td>Good</td>\n",
       "      <td>3.8</td>\n",
       "      <td>767</td>\n",
       "    </tr>\n",
       "    <tr>\n",
       "      <th>9350</th>\n",
       "      <td>Agraa Bazaar</td>\n",
       "      <td>300</td>\n",
       "      <td>Fast Food,North Indian</td>\n",
       "      <td>Mumbai</td>\n",
       "      <td>Borivali West</td>\n",
       "      <td>https://www.zomato.com/mumbai/agraa-bazaar-bor...</td>\n",
       "      <td>625</td>\n",
       "      <td>Quick Bites</td>\n",
       "      <td>830am to 3pm,4pm to 1030pm(Mon-Sun)</td>\n",
       "      <td>Average</td>\n",
       "      <td>3.4</td>\n",
       "      <td>12</td>\n",
       "    </tr>\n",
       "    <tr>\n",
       "      <th>14082</th>\n",
       "      <td>Bombay Foods</td>\n",
       "      <td>200</td>\n",
       "      <td>Sandwich</td>\n",
       "      <td>Mumbai</td>\n",
       "      <td>Near Andheri East Station</td>\n",
       "      <td>https://www.zomato.com/mumbai/bombay-foods-nea...</td>\n",
       "      <td>892</td>\n",
       "      <td>none</td>\n",
       "      <td>10am to 10pm(Mon-Sun)</td>\n",
       "      <td>NaN</td>\n",
       "      <td>NEW</td>\n",
       "      <td>NEW</td>\n",
       "    </tr>\n",
       "    <tr>\n",
       "      <th>8045</th>\n",
       "      <td>A Vanilla Bean</td>\n",
       "      <td>400</td>\n",
       "      <td>Bakery,Desserts</td>\n",
       "      <td>Mumbai</td>\n",
       "      <td>Khar</td>\n",
       "      <td>https://www.zomato.com/avanillabean/info</td>\n",
       "      <td>551</td>\n",
       "      <td>Bakery</td>\n",
       "      <td>9am to 7pm(Mon-Sun)</td>\n",
       "      <td>Very Good</td>\n",
       "      <td>4.0</td>\n",
       "      <td>120</td>\n",
       "    </tr>\n",
       "  </tbody>\n",
       "</table>\n",
       "</div>"
      ],
      "text/plain": [
       "                         NAME PRICE                           CUSINE_CATEGORY  \\\n",
       "4290   Suyog Restaurant & Bar   750      North Indian,Chinese,Mughlai,Seafood   \n",
       "14764         Ebony Fine-Dine  1600  Continental,Chinese,North Indian,Seafood   \n",
       "9350             Agraa Bazaar   300                    Fast Food,North Indian   \n",
       "14082            Bombay Foods   200                                  Sandwich   \n",
       "8045           A Vanilla Bean   400                           Bakery,Desserts   \n",
       "\n",
       "         CITY                     REGION  \\\n",
       "4290   Mumbai                     Wadala   \n",
       "14764  Mumbai             Kandivali East   \n",
       "9350   Mumbai              Borivali West   \n",
       "14082  Mumbai  Near Andheri East Station   \n",
       "8045   Mumbai                       Khar   \n",
       "\n",
       "                                                     URL PAGE NO  \\\n",
       "4290   https://www.zomato.com/mumbai/suyog-restaurant...     340   \n",
       "14764                  https://www.zomato.com/ebony/info      93   \n",
       "9350   https://www.zomato.com/mumbai/agraa-bazaar-bor...     625   \n",
       "14082  https://www.zomato.com/mumbai/bombay-foods-nea...     892   \n",
       "8045            https://www.zomato.com/avanillabean/info     551   \n",
       "\n",
       "         CUSINE TYPE                                      TIMING RATING_TYPE  \\\n",
       "4290   Casual Dining  1130am to 3pm,630pm to 12midnight(Mon-Sun)     Average   \n",
       "14764  Casual Dining        1130am to 3pm,7pm to 1230AM(Mon-Sun)        Good   \n",
       "9350     Quick Bites         830am to 3pm,4pm to 1030pm(Mon-Sun)     Average   \n",
       "14082           none                       10am to 10pm(Mon-Sun)         NaN   \n",
       "8045          Bakery                         9am to 7pm(Mon-Sun)   Very Good   \n",
       "\n",
       "      RATING VOTES  \n",
       "4290     3.4    71  \n",
       "14764    3.8   767  \n",
       "9350     3.4    12  \n",
       "14082    NEW   NEW  \n",
       "8045     4.0   120  "
      ]
     },
     "execution_count": 7,
     "metadata": {},
     "output_type": "execute_result"
    }
   ],
   "source": [
    "df.sample(5)"
   ]
  },
  {
   "cell_type": "markdown",
   "id": "87a19f00-a440-4ebf-8b72-78b95c7ecea6",
   "metadata": {},
   "source": [
    "## How big is the data\n",
    "The shape() function tells us the number of rows and columns of the dataset. This will help me in understanding whether the data is too large to be handeled."
   ]
  },
  {
   "cell_type": "code",
   "execution_count": 8,
   "id": "90c846e4-1965-4708-ab60-085fb9341b84",
   "metadata": {},
   "outputs": [
    {
     "data": {
      "text/plain": [
       "(15081, 12)"
      ]
     },
     "execution_count": 8,
     "metadata": {},
     "output_type": "execute_result"
    }
   ],
   "source": [
    "df.shape"
   ]
  },
  {
   "cell_type": "markdown",
   "id": "001ce402-f937-4b8a-b178-f5dad6af9d78",
   "metadata": {},
   "source": [
    "## Types of Data\n",
    "The info() function tells about the data type of each column in the dataset and also how many of them are not null. This will help me understand the overall type of data I am dealing with and also tell me whether I have to change the data type of a particular column."
   ]
  },
  {
   "cell_type": "code",
   "execution_count": 9,
   "id": "35453060-abf3-4c83-a8a3-7efd9ca52961",
   "metadata": {},
   "outputs": [
    {
     "name": "stdout",
     "output_type": "stream",
     "text": [
      "<class 'pandas.core.frame.DataFrame'>\n",
      "RangeIndex: 15081 entries, 0 to 15080\n",
      "Data columns (total 12 columns):\n",
      " #   Column           Non-Null Count  Dtype \n",
      "---  ------           --------------  ----- \n",
      " 0   NAME             15081 non-null  object\n",
      " 1   PRICE            15080 non-null  object\n",
      " 2   CUSINE_CATEGORY  15079 non-null  object\n",
      " 3   CITY             15080 non-null  object\n",
      " 4   REGION           15080 non-null  object\n",
      " 5   URL              15080 non-null  object\n",
      " 6   PAGE NO          15080 non-null  object\n",
      " 7   CUSINE TYPE      15080 non-null  object\n",
      " 8   TIMING           15015 non-null  object\n",
      " 9   RATING_TYPE      14070 non-null  object\n",
      " 10  RATING           15080 non-null  object\n",
      " 11  VOTES            15080 non-null  object\n",
      "dtypes: object(12)\n",
      "memory usage: 1.4+ MB\n"
     ]
    }
   ],
   "source": [
    "df.info()"
   ]
  },
  {
   "cell_type": "markdown",
   "id": "1ed63e19-cc2c-4443-9854-e13f19bf2bc2",
   "metadata": {},
   "source": [
    "## DataType Change\n",
    "I can see that all the columns have the datatype as object, this will create problems in the transformation of data. Thus, I converted the price, rating and votes columns to numeric. Then to confirm whether the change was successful, we agian write the info() function."
   ]
  },
  {
   "cell_type": "code",
   "execution_count": 10,
   "id": "2faedc6b-873c-49a0-9205-b4eef8935b60",
   "metadata": {},
   "outputs": [],
   "source": [
    "#df['PRICE'] = df['PRICE'].astype(int)\n",
    "#df['RATING'] = df['RATING'].astype(float)\n",
    "#df['VOTES'] = df['VOTES'].astype(int)\n",
    "\n",
    "df['PRICE']=pd.to_numeric(df['PRICE'], errors='coerce')\n",
    "df['RATING']=pd.to_numeric(df['RATING'], errors='coerce')\n",
    "df['VOTES']=pd.to_numeric(df['VOTES'], errors='coerce')"
   ]
  },
  {
   "cell_type": "code",
   "execution_count": 11,
   "id": "4c4cdb12-bcab-4d1e-b7f3-d765e5b6b73e",
   "metadata": {},
   "outputs": [
    {
     "name": "stdout",
     "output_type": "stream",
     "text": [
      "<class 'pandas.core.frame.DataFrame'>\n",
      "RangeIndex: 15081 entries, 0 to 15080\n",
      "Data columns (total 12 columns):\n",
      " #   Column           Non-Null Count  Dtype  \n",
      "---  ------           --------------  -----  \n",
      " 0   NAME             15081 non-null  object \n",
      " 1   PRICE            14138 non-null  float64\n",
      " 2   CUSINE_CATEGORY  15079 non-null  object \n",
      " 3   CITY             15080 non-null  object \n",
      " 4   REGION           15080 non-null  object \n",
      " 5   URL              15080 non-null  object \n",
      " 6   PAGE NO          15080 non-null  object \n",
      " 7   CUSINE TYPE      15080 non-null  object \n",
      " 8   TIMING           15015 non-null  object \n",
      " 9   RATING_TYPE      14070 non-null  object \n",
      " 10  RATING           10768 non-null  float64\n",
      " 11  VOTES            10768 non-null  float64\n",
      "dtypes: float64(3), object(9)\n",
      "memory usage: 1.4+ MB\n"
     ]
    }
   ],
   "source": [
    "df.info()"
   ]
  },
  {
   "cell_type": "markdown",
   "id": "cf44ffc1-2b96-4b9a-ba7f-5ed5193aaa4f",
   "metadata": {},
   "source": [
    "## Remove Duplicates\n",
    "There is no point in seeing the same restaurant on the dashboard more than once. Thus, first I will see how many duplicate rows there are in total and then the mean so that I can know what percentage of data is getting removed.\n",
    "\n",
    "When removing the duplicates, I kept the first row as I don't want to waste any restaurant information."
   ]
  },
  {
   "cell_type": "code",
   "execution_count": 12,
   "id": "b07e79af-6082-4466-86f9-e5c44e52547d",
   "metadata": {},
   "outputs": [
    {
     "data": {
      "text/plain": [
       "np.int64(941)"
      ]
     },
     "execution_count": 12,
     "metadata": {},
     "output_type": "execute_result"
    }
   ],
   "source": [
    "df.duplicated().sum()"
   ]
  },
  {
   "cell_type": "code",
   "execution_count": 13,
   "id": "18a81485-69e1-410e-8a73-c18bb2778832",
   "metadata": {},
   "outputs": [
    {
     "data": {
      "text/plain": [
       "np.float64(0.06239639281214773)"
      ]
     },
     "execution_count": 13,
     "metadata": {},
     "output_type": "execute_result"
    }
   ],
   "source": [
    "df.duplicated().mean()"
   ]
  },
  {
   "cell_type": "code",
   "execution_count": 14,
   "id": "bdda9d7b-0c36-4924-a880-4b9d7e905cd1",
   "metadata": {},
   "outputs": [],
   "source": [
    "df=df.drop_duplicates(keep='first')"
   ]
  },
  {
   "cell_type": "code",
   "execution_count": 15,
   "id": "6280e4ae-0f53-4cf5-8174-b0f1682f038a",
   "metadata": {},
   "outputs": [
    {
     "data": {
      "text/plain": [
       "np.int64(0)"
      ]
     },
     "execution_count": 15,
     "metadata": {},
     "output_type": "execute_result"
    }
   ],
   "source": [
    "df.duplicated().sum()"
   ]
  },
  {
   "cell_type": "markdown",
   "id": "b26a9dfa-6226-47b0-b43e-a7bc363f17b5",
   "metadata": {},
   "source": [
    "## Rename Columns\n",
    "For my better understanding of the data, I have renamed some columns. And also due to spelling mistakes.\n",
    "\n",
    "And as a safe practice, I always recheck if the change has been made and updated."
   ]
  },
  {
   "cell_type": "code",
   "execution_count": 16,
   "id": "85602b27-d083-4f66-8e3b-7c1c4970ec77",
   "metadata": {},
   "outputs": [],
   "source": [
    "df.rename({'RATING_TYPE':'REVIEW'}, axis=1, inplace=True)"
   ]
  },
  {
   "cell_type": "code",
   "execution_count": 17,
   "id": "ef9b3ba8-d5bb-43ea-ab27-30f377c5f904",
   "metadata": {},
   "outputs": [
    {
     "data": {
      "text/plain": [
       "Index(['NAME', 'PRICE', 'CUSINE_CATEGORY', 'CITY', 'REGION', 'URL', 'PAGE NO',\n",
       "       'CUSINE TYPE', 'TIMING', 'REVIEW', 'RATING', 'VOTES'],\n",
       "      dtype='object')"
      ]
     },
     "execution_count": 17,
     "metadata": {},
     "output_type": "execute_result"
    }
   ],
   "source": [
    "df.columns"
   ]
  },
  {
   "cell_type": "code",
   "execution_count": 18,
   "id": "e246ee90-5c7e-4038-9893-e21a26372e05",
   "metadata": {},
   "outputs": [],
   "source": [
    "df.rename({'CUSINE_CATEGORY' : 'CUISINE_CATEGORY', 'CUSINE TYPE' : 'RESTAURANT_TYPE'}, axis=1, inplace=True)"
   ]
  },
  {
   "cell_type": "code",
   "execution_count": 19,
   "id": "b08b719f-bba5-489a-ba8a-3f2a59f6dbc6",
   "metadata": {},
   "outputs": [
    {
     "data": {
      "text/plain": [
       "Index(['NAME', 'PRICE', 'CUISINE_CATEGORY', 'CITY', 'REGION', 'URL', 'PAGE NO',\n",
       "       'RESTAURANT_TYPE', 'TIMING', 'REVIEW', 'RATING', 'VOTES'],\n",
       "      dtype='object')"
      ]
     },
     "execution_count": 19,
     "metadata": {},
     "output_type": "execute_result"
    }
   ],
   "source": [
    "df.columns"
   ]
  },
  {
   "cell_type": "markdown",
   "id": "4d8bdc92-a317-4070-99ea-2d3eaabd5e53",
   "metadata": {},
   "source": [
    "## Checking The Review Column\n",
    "There are many types of reviews a person can give. This dataset especially has reviews in Spanish; thus, I converted them into a normal review system, which is- Excellent, Very Good, Good, Average and Poor.\n",
    "The unique() function gives the unique values in the column."
   ]
  },
  {
   "cell_type": "code",
   "execution_count": 20,
   "id": "b8b5a65a-e7e7-45ef-a6d2-1006733ecd4f",
   "metadata": {},
   "outputs": [
    {
     "data": {
      "text/plain": [
       "array(['Excellent', 'Very Good', 'Veľmi dobré', 'RATING_TYPE', 'Good',\n",
       "       'Velmi dobré', 'Not rated', nan, 'Average', 'Excelente',\n",
       "       'Muito Bom', 'Poor', 'Skvělá volba', 'Çok iyi', 'Baik',\n",
       "       'Bardzo dobrze', 'Bom', 'Média', 'Dobrze', 'Buono', 'İyi', 'Bueno',\n",
       "       'Ortalama', 'Skvělé', 'Biasa', 'Průměr', 'Sangat Baik', 'Priemer',\n",
       "       'Dobré', 'Promedio', 'Muy Bueno', 'Media'], dtype=object)"
      ]
     },
     "execution_count": 20,
     "metadata": {},
     "output_type": "execute_result"
    }
   ],
   "source": [
    "df['REVIEW'].unique()"
   ]
  },
  {
   "cell_type": "markdown",
   "id": "2ceac764-7fd2-4bf8-9c45-ae514fa1ecde",
   "metadata": {},
   "source": [
    "## Finding Suspicious Content\n",
    "In the above answer, we find that there is a value called as 'RATING_TYPE'. After finding the same things in other columns, I figured that instead of NA, the dataset contained the column name. Thus, I removed all the null values and then used the shape function to see how many rows I am dealing with."
   ]
  },
  {
   "cell_type": "code",
   "execution_count": 21,
   "id": "94b107b8-d860-419e-b9e2-7284cb2327b2",
   "metadata": {},
   "outputs": [],
   "source": [
    "df['NAME'] = df['NAME'].drop(df[df['NAME'] == 'NAME'].index)"
   ]
  },
  {
   "cell_type": "code",
   "execution_count": 22,
   "id": "628311f9-aee3-44e8-9fc8-6ee86e3d055d",
   "metadata": {},
   "outputs": [],
   "source": [
    "df.dropna(inplace = True)"
   ]
  },
  {
   "cell_type": "code",
   "execution_count": 23,
   "id": "21a3cc52-26f1-4929-a4aa-add94e5e8511",
   "metadata": {},
   "outputs": [
    {
     "data": {
      "text/plain": [
       "(10761, 12)"
      ]
     },
     "execution_count": 23,
     "metadata": {},
     "output_type": "execute_result"
    }
   ],
   "source": [
    "df.shape"
   ]
  },
  {
   "cell_type": "markdown",
   "id": "8b4a2e9e-da4a-4803-8403-114554d19834",
   "metadata": {},
   "source": [
    "## Remove Unwanted Columns\n",
    "No one wants garbage accumulating and taking up valuable space. Thus, I decided to keep what is useful and then delete the unwanted column. This will reduce the storage consumption and also make the operations smoother and faster.\n",
    "\n",
    "I need to remove the 'PAGE NO' column as it is regarding the page number of the Zomato app, which is irrelevant to me and the analysis.\n",
    "\n",
    "I need to remove the 'CITY' column as the whole column consists of the word 'MUMBAI', as this dataset is regarding restaurants in Mumbai."
   ]
  },
  {
   "cell_type": "code",
   "execution_count": 24,
   "id": "9a6faba4-9b1f-42dc-9630-f8041fafc806",
   "metadata": {},
   "outputs": [],
   "source": [
    "df=df.drop(columns=['PAGE NO'])"
   ]
  },
  {
   "cell_type": "code",
   "execution_count": 25,
   "id": "c3670d4e-43d0-4d12-9e31-43c5df70e5e2",
   "metadata": {},
   "outputs": [],
   "source": [
    "df=df.drop(columns=['CITY'])"
   ]
  },
  {
   "cell_type": "markdown",
   "id": "7f29979f-85ad-4f92-b39a-b3d6cbe26ebb",
   "metadata": {},
   "source": [
    "## The Review Column\n",
    "Finally, I will start the data cleaning of the 'REVIW' column. I will first find out what the values are in the column, and as the language used for many reviews is Spanish, I will find out the meaning of each and every word and assign it an appropriate English name."
   ]
  },
  {
   "cell_type": "code",
   "execution_count": 26,
   "id": "115c58f2-e5c8-4292-8f49-52d08b35b6a2",
   "metadata": {},
   "outputs": [
    {
     "data": {
      "text/plain": [
       "array(['Excellent', 'Very Good', 'Veľmi dobré', 'Good', 'Velmi dobré',\n",
       "       'Average', 'Excelente', 'Muito Bom', 'Poor', 'Skvělá volba',\n",
       "       'Çok iyi', 'Baik', 'Bardzo dobrze', 'Bom', 'Média', 'Dobrze',\n",
       "       'Buono', 'İyi', 'Bueno', 'Ortalama', 'Skvělé', 'Biasa', 'Průměr',\n",
       "       'Sangat Baik', 'Priemer', 'Dobré', 'Promedio', 'Muy Bueno',\n",
       "       'Media'], dtype=object)"
      ]
     },
     "execution_count": 26,
     "metadata": {},
     "output_type": "execute_result"
    }
   ],
   "source": [
    "df['REVIEW'].unique()"
   ]
  },
  {
   "cell_type": "code",
   "execution_count": 27,
   "id": "100df96a-8754-4a88-8a57-759534eaf4a7",
   "metadata": {},
   "outputs": [],
   "source": [
    "df['REVIEW']=df['REVIEW'].replace('Excelente' , 'Excellent', regex=True)\n",
    "df['REVIEW']=df['REVIEW'].replace('Veľmi dobré|Bardzo dobrze|Muy Bueno|Muito Bom|Muito Good|Sangat Baik|Velmi dobré' , 'Very Good', regex=True)\n",
    "df['REVIEW']=df['REVIEW'].replace('Skvělá volba|Dobrze|Bueno|Buono|Dobré|Bom|Skvělé' , 'Good', regex=True)\n",
    "df['REVIEW']=df['REVIEW'].replace('Priemer|Média|Media|Çok iyi|Biasa|Baik' , 'Average', regex=True)\n",
    "df['REVIEW']=df['REVIEW'].replace('Průměr|Promedio|Ortalama|İyi|Media' , 'Poor', regex=True)"
   ]
  },
  {
   "cell_type": "code",
   "execution_count": 28,
   "id": "5201ee27-9d9a-45af-b3f8-8fd5e1e44e39",
   "metadata": {},
   "outputs": [
    {
     "data": {
      "text/plain": [
       "array(['Excellent', 'Very Good', 'Good', 'Average', 'Poor'], dtype=object)"
      ]
     },
     "execution_count": 28,
     "metadata": {},
     "output_type": "execute_result"
    }
   ],
   "source": [
    "df['REVIEW'].unique()"
   ]
  },
  {
   "cell_type": "code",
   "execution_count": 29,
   "id": "7eeca57d-fa79-4634-a59e-52e4c9ff91d5",
   "metadata": {},
   "outputs": [
    {
     "data": {
      "text/plain": [
       "REVIEW\n",
       "Average      5116\n",
       "Good         4344\n",
       "Very Good    1150\n",
       "Excellent      96\n",
       "Poor           55\n",
       "Name: count, dtype: int64"
      ]
     },
     "execution_count": 29,
     "metadata": {},
     "output_type": "execute_result"
    }
   ],
   "source": [
    "df['REVIEW'].value_counts()"
   ]
  },
  {
   "cell_type": "markdown",
   "id": "7ed2a989-8c07-4b26-b8d7-ef279984fab8",
   "metadata": {},
   "source": [
    "## The Region Column\n",
    "First, let's see how many regions the dataset covers. And then I will make another column called 'PLACE' so as not to forget the detailed address. The place column will have a part of the region column string, which signifies the locality in Mumbai. This will help in the better analysis of the data."
   ]
  },
  {
   "cell_type": "code",
   "execution_count": 30,
   "id": "731e44d2-c78c-4adf-821f-13640b48b054",
   "metadata": {},
   "outputs": [
    {
     "data": {
      "text/plain": [
       "array(['First International Financial Centre-- Bandra Kurla Complex',\n",
       "       'Mahim', 'Juhu', 'Bandra Kurla Complex', 'Flea Bazaar Café',\n",
       "       'Marol', 'Oshiwara-- Andheri West', 'Kamala Mills Compound',\n",
       "       'Dadar West', 'Khar', 'Lower Parel', 'Pali Hill-- Bandra West',\n",
       "       'Mumbai CST Area', 'Bhandup', 'Malad West', 'Powai', 'Chembur',\n",
       "       'Goregaon West', 'Andheri Lokhandwala-- Andheri West',\n",
       "       'Reclamation-- Bandra West', 'Vile Parle East',\n",
       "       'Palladium Mall-- Lower Parel', 'CBD-Belapur', 'Borivali West',\n",
       "       'Vasai', 'Castle Mill-- Thane West', 'Parel',\n",
       "       'Vasant Vihar-- Thane West', 'Colaba', 'Nariman Point',\n",
       "       'Naupada-- Thane West', 'Goregaon East', 'Versova-- Andheri West',\n",
       "       'Santacruz East', 'Mulund West', 'Kandivali East',\n",
       "       'Panch Pakhadi-- Thane West', 'Mahakali',\n",
       "       'Near Andheri East Station', 'Airoli', 'Hill Road-- Bandra West',\n",
       "       'Mira Road', 'Fort', 'Ghodbunder Road', 'Jogeshwari', 'Vashi',\n",
       "       'Ghatkopar East', 'Bandra East', '7 Bungalows-- Andheri West',\n",
       "       'Byculla', 'Kalyan', 'Bhayandar', 'Malad East', 'Sakinaka',\n",
       "       'Kandivali West', 'Charni Road', 'Borivali East', 'Chandivali',\n",
       "       'Mohammad Ali Road', 'Carter Road-- Bandra West', 'Kharghar',\n",
       "       'Matunga East', 'Worli', 'Oberoi Mall-- Goregaon East',\n",
       "       'Dadar Shivaji Park', 'Azad Nagar',\n",
       "       'Galleria Shopping Centre-- Powai',\n",
       "       'Korum Mall-- Khopat-- Thane West', 'Bandra Talao-- Bandra West',\n",
       "       'Ulhasnagar', '4 Bungalows',\n",
       "       'Palms Water Business & Leisure Club-- Kalyan West',\n",
       "       'Kopar Khairane', 'Dahisar East', 'Owale-- Thane West',\n",
       "       'Haware Centurion Mall-- Seawoods', 'Mumbai Central',\n",
       "       'Phoenix Marketcity-- Kurla', 'Veera Desai Area', 'Chowpatty',\n",
       "       'Kurla', 'Old Panvel', 'Sion', 'Tardeo', 'Ghatkopar West',\n",
       "       'Santacruz West', 'Manpada-- Thane West', 'Upvan-- Thane West',\n",
       "       'Hotel Jewel of Chembur-- Chembur', 'Near Andheri West Station',\n",
       "       'Mazgaon', 'Prabhadevi', 'Vile Parle West', 'Sanpada', 'Ghansoli',\n",
       "       'Virar', 'Girgaum', 'Mumbra', 'Marve', 'Kamothe', 'Ulwe',\n",
       "       'High Street Phoenix-- Lower Parel', 'Inorbit Mall-- Vashi',\n",
       "       'Mulund East', 'Marine Lines', 'Mahalaxmi',\n",
       "       'Linking Road-- Bandra West', 'R Galleria-- Runwal Green',\n",
       "       'Chakala', 'Kasarvadavli-- Thane West', 'Nalasopara', 'Kalwa',\n",
       "       'Nerul', 'R Odeon Mall-- Ghatkopar East',\n",
       "       'Hiranandani Estate-- Thane West', 'Dahisar West', 'Matunga West',\n",
       "       'Grant Road', 'Regenza By Tunga Hotels-- Vashi',\n",
       "       'The Gordon House Hotel-- Colaba', 'Breach Candy', 'New Panvel',\n",
       "       'Khopat-- Thane West', 'Churchgate', 'Majiwada-- Thane West',\n",
       "       'R City Mall-- Ghatkopar West', 'The Hub Mall-- Goregaon East',\n",
       "       'Hotel Royal Orchid-- Chembur',\n",
       "       'Viviana Mall-- Majiwada-- Thane West', 'Vikhroli', 'Kalbadevi',\n",
       "       'Rudra Shelter International-- Vasai', 'Dombivali East',\n",
       "       'Kemps Corner', 'Hotel Krishna Palace-- Grant Road',\n",
       "       'Malabar Hill', 'Turbhe', 'Svenska Design Hotel-- Andheri West',\n",
       "       'Marine Plaza-- Marine Lines',\n",
       "       'Hotel Sai Palace Grand-- Malad West',\n",
       "       'InterContinental-- Churchgate', 'Infiniti Mall-- Malad West',\n",
       "       'Kalamboli', 'Dadar East', 'Wadala', 'Hotel Emerald-- Juhu',\n",
       "       'Alibaug', 'Hotel Sun n Sand-- Juhu', 'Hotel Shilpa-- Mulund West',\n",
       "       'Pallavi Avida-- Kalamboli', 'Wagle Estate-- Thane West',\n",
       "       'Thane East', 'Peddar Road', 'Bar Bank-- Juhu',\n",
       "       'Radha Krishna Hotel-- Ghatkopar West',\n",
       "       'Hotel Highway View-- Sanpada', 'Dombivali West',\n",
       "       'Atria Mall-- Worli', 'VITS Hotel-- Marol',\n",
       "       'Boulevard Mall-- Majiwada-- Thane West', 'Yogi Midtown-- Turbhe',\n",
       "       'Centrium Mall-- Kandivali East', 'Royal Tulip-- Kharghar',\n",
       "       'Seawoods', 'Ambernath', 'Satra Plaza-- Vashi',\n",
       "       'The Paradise by Tunga-- Mahakali', 'Rodas Hotel-- Powai',\n",
       "       'Bandstand-- Bandra West', 'Hotel Yogi Metropolitan-- Sanpada',\n",
       "       \"Hotel King's International-- Juhu\",\n",
       "       'Hotel Yogi Executive-- Vashi', 'Sofitel-- Bandra Kurla Complex',\n",
       "       'Cooling Tower-- Goregaon East', 'Gorai',\n",
       "       'Comfort Inn Heritage-- Byculla', 'Metro Junction Mall-- Kalyan',\n",
       "       'Fortune Park Lakecity-- Majiwada', 'Citizen Hotel-- Juhu',\n",
       "       'Hotel Royal Inn-- Khar', 'Abbott Hotel-- Vashi', 'Sewri',\n",
       "       'Tunga International-- Mahakali', 'Juhu Chowpatty-- Juhu',\n",
       "       'Hotel Centre Point-- CBD Belapur', 'Cuffe Parade',\n",
       "       'GCC Hotel & Club-- Mira Road',\n",
       "       'Juhu Residency Boutique Hotel-- Juhu', 'Girgaon Chowpatty',\n",
       "       'Orion Mall-- Panvel', 'Haiko Mall-- Powai',\n",
       "       'Fariyas Hotel-- Colaba', 'Xperia Mall-- Dombivali East',\n",
       "       'The Peninsula Grand Hotel-- Sakinaka',\n",
       "       'Equinox Business Park-- Kurla', 'Dattani Square Mall-- Vasai',\n",
       "       'The Supremo-- Mahakali',\n",
       "       'Infiniti Mall-- Andheri Lokhandwala-- Andheri West',\n",
       "       'Thakur Mall-- Dahisar East',\n",
       "       'Hotel Risshi Residency-- Kopar Khairane',\n",
       "       'Hotel Jawahar-- Ulhasnagar',\n",
       "       'Seawoods Grand Central Mall-- Seawoods',\n",
       "       'Rassaz Shopping Mall-- Mira Road',\n",
       "       'Grand Mookambika-- Kopar Khairane', 'Inorbit Mall-- Malad West',\n",
       "       'The Lalit Mumbai-- Chakala', 'Hotel Sahil-- Mumbai Central',\n",
       "       'Holiday Inn-- Sakinaka', 'Annex Mall-- Borivali East',\n",
       "       \"Growel's 101 Mall-- Kandivali East\",\n",
       "       'The Shalimar Hotel-- Kemps Corner',\n",
       "       'Trident-- Bandra Kurla Complex', 'Sea Princess-- Juhu',\n",
       "       'Aureole Hotel-- Andheri East',\n",
       "       'Royal Challenge Complex-- Goregaon', 'ITC Grand Central-- Parel',\n",
       "       'Devanshi Inn-- Kalamboli', 'R Mall-- Mulund West',\n",
       "       'CR2 Mall-- Nariman Point', 'Raghuleela Mall-- Kandivali West',\n",
       "       'Kenilworth Mall-- Linking Road-- Bandra West',\n",
       "       'Hotel Heritage Supreme-- Vashi',\n",
       "       'Hotel Varishtta-- Kopar Khairane', 'Hotel Mirador-- Andheri East',\n",
       "       'Raghuleela Mall-- Vashi', 'Ramee Guestline Hotel-- Dadar',\n",
       "       'Peninsula Redpine-- Marol',\n",
       "       'Big Shopping Centre-- Owale-- Thane West',\n",
       "       'K Star Mall-- Chembur', 'Fun Republic Mall-- Veera Desai Area',\n",
       "       'Times Square-- Marol', 'De Mall-- Veera Desai Area',\n",
       "       'Little World Mall-- Kharghar', 'Le Sutra Hotel-- Khar',\n",
       "       'Maxus Mall-- Bhayandar', 'Orchard Mall-- Goregaon East',\n",
       "       'Hotel Satkar Residency-- Majiwada'], dtype=object)"
      ]
     },
     "execution_count": 30,
     "metadata": {},
     "output_type": "execute_result"
    }
   ],
   "source": [
    "df['REGION'].unique()"
   ]
  },
  {
   "cell_type": "code",
   "execution_count": 31,
   "id": "7cd28e6b-27c8-4b76-8581-d914ef4d1427",
   "metadata": {},
   "outputs": [],
   "source": [
    "df['PLACE']= df['REGION'].str.replace('[a-zA-Z].+-- ','',regex=True)"
   ]
  },
  {
   "cell_type": "code",
   "execution_count": 32,
   "id": "ec63dc17-508a-408f-af70-c239e856176f",
   "metadata": {},
   "outputs": [
    {
     "data": {
      "text/plain": [
       "array(['Bandra Kurla Complex', 'Mahim', 'Juhu', 'Flea Bazaar Café',\n",
       "       'Marol', 'Andheri West', 'Kamala Mills Compound', 'Dadar West',\n",
       "       'Khar', 'Lower Parel', 'Bandra West', 'Mumbai CST Area', 'Bhandup',\n",
       "       'Malad West', 'Powai', 'Chembur', 'Goregaon West',\n",
       "       'Vile Parle East', 'CBD-Belapur', 'Borivali West', 'Vasai',\n",
       "       'Thane West', 'Parel', 'Colaba', 'Nariman Point', 'Goregaon East',\n",
       "       'Santacruz East', 'Mulund West', 'Kandivali East', 'Mahakali',\n",
       "       'Near Andheri East Station', 'Airoli', 'Mira Road', 'Fort',\n",
       "       'Ghodbunder Road', 'Jogeshwari', 'Vashi', 'Ghatkopar East',\n",
       "       'Bandra East', '7 Andheri West', 'Byculla', 'Kalyan', 'Bhayandar',\n",
       "       'Malad East', 'Sakinaka', 'Kandivali West', 'Charni Road',\n",
       "       'Borivali East', 'Chandivali', 'Mohammad Ali Road', 'Kharghar',\n",
       "       'Matunga East', 'Worli', 'Dadar Shivaji Park', 'Azad Nagar',\n",
       "       'Ulhasnagar', '4 Bungalows', 'Kalyan West', 'Kopar Khairane',\n",
       "       'Dahisar East', 'Seawoods', 'Mumbai Central', 'Kurla',\n",
       "       'Veera Desai Area', 'Chowpatty', 'Old Panvel', 'Sion', 'Tardeo',\n",
       "       'Ghatkopar West', 'Santacruz West', 'Near Andheri West Station',\n",
       "       'Mazgaon', 'Prabhadevi', 'Vile Parle West', 'Sanpada', 'Ghansoli',\n",
       "       'Virar', 'Girgaum', 'Mumbra', 'Marve', 'Kamothe', 'Ulwe',\n",
       "       'Mulund East', 'Marine Lines', 'Mahalaxmi', 'Runwal Green',\n",
       "       'Chakala', 'Nalasopara', 'Kalwa', 'Nerul', 'Dahisar West',\n",
       "       'Matunga West', 'Grant Road', 'Breach Candy', 'New Panvel',\n",
       "       'Churchgate', 'Vikhroli', 'Kalbadevi', 'Dombivali East',\n",
       "       'Kemps Corner', 'Malabar Hill', 'Turbhe', 'Kalamboli',\n",
       "       'Dadar East', 'Wadala', 'Alibaug', 'Thane East', 'Peddar Road',\n",
       "       'Dombivali West', 'Ambernath', 'Gorai', 'Majiwada', 'Sewri',\n",
       "       'CBD Belapur', 'Cuffe Parade', 'Girgaon Chowpatty', 'Panvel',\n",
       "       'Andheri East', 'Goregaon', 'Dadar'], dtype=object)"
      ]
     },
     "execution_count": 32,
     "metadata": {},
     "output_type": "execute_result"
    }
   ],
   "source": [
    "df['PLACE'].unique()"
   ]
  },
  {
   "cell_type": "markdown",
   "id": "aa067abf-5e25-432a-ac05-ac95aadc2a1f",
   "metadata": {},
   "source": [
    "## Contd.\n",
    "As there are still a lot of abbreviations, I try to remove the common ones like east and west. Then comes the road inside the localities, which I have clubbed and put under the same locality name. There are also names with discrepancies with a '-' or one of the letters is in upper or lower case. This all will lead to many unique values. Thus, I have reduced the number of unique values as much as possible."
   ]
  },
  {
   "cell_type": "code",
   "execution_count": 33,
   "id": "92225b4f-beeb-45d1-ae4a-f208420ce3b5",
   "metadata": {},
   "outputs": [],
   "source": [
    "df['PLACE'] = df['PLACE'].str.replace(' West| west| East| east','',regex=True)"
   ]
  },
  {
   "cell_type": "code",
   "execution_count": 34,
   "id": "3fd2b129-2fe6-4bae-bad3-0fb58d18c1d2",
   "metadata": {},
   "outputs": [
    {
     "data": {
      "text/plain": [
       "array(['Bandra Kurla Complex', 'Mahim', 'Juhu', 'Flea Bazaar Café',\n",
       "       'Marol', 'Andheri', 'Kamala Mills Compound', 'Dadar', 'Khar',\n",
       "       'Lower Parel', 'Bandra', 'Mumbai CST Area', 'Bhandup', 'Malad',\n",
       "       'Powai', 'Chembur', 'Goregaon', 'Vile Parle', 'CBD-Belapur',\n",
       "       'Borivali', 'Vasai', 'Thane', 'Parel', 'Colaba', 'Nariman Point',\n",
       "       'Santacruz', 'Mulund', 'Kandivali', 'Mahakali',\n",
       "       'Near Andheri Station', 'Airoli', 'Mira Road', 'Fort',\n",
       "       'Ghodbunder Road', 'Jogeshwari', 'Vashi', 'Ghatkopar', '7 Andheri',\n",
       "       'Byculla', 'Kalyan', 'Bhayandar', 'Sakinaka', 'Charni Road',\n",
       "       'Chandivali', 'Mohammad Ali Road', 'Kharghar', 'Matunga', 'Worli',\n",
       "       'Dadar Shivaji Park', 'Azad Nagar', 'Ulhasnagar', '4 Bungalows',\n",
       "       'Kopar Khairane', 'Dahisar', 'Seawoods', 'Mumbai Central', 'Kurla',\n",
       "       'Veera Desai Area', 'Chowpatty', 'Old Panvel', 'Sion', 'Tardeo',\n",
       "       'Mazgaon', 'Prabhadevi', 'Sanpada', 'Ghansoli', 'Virar', 'Girgaum',\n",
       "       'Mumbra', 'Marve', 'Kamothe', 'Ulwe', 'Marine Lines', 'Mahalaxmi',\n",
       "       'Runwal Green', 'Chakala', 'Nalasopara', 'Kalwa', 'Nerul',\n",
       "       'Grant Road', 'Breach Candy', 'New Panvel', 'Churchgate',\n",
       "       'Vikhroli', 'Kalbadevi', 'Dombivali', 'Kemps Corner',\n",
       "       'Malabar Hill', 'Turbhe', 'Kalamboli', 'Wadala', 'Alibaug',\n",
       "       'Peddar Road', 'Ambernath', 'Gorai', 'Majiwada', 'Sewri',\n",
       "       'CBD Belapur', 'Cuffe Parade', 'Girgaon Chowpatty', 'Panvel'],\n",
       "      dtype=object)"
      ]
     },
     "execution_count": 34,
     "metadata": {},
     "output_type": "execute_result"
    }
   ],
   "source": [
    "df['PLACE'].unique()"
   ]
  },
  {
   "cell_type": "code",
   "execution_count": 35,
   "id": "b1eff6a2-e8f2-4c20-9f4a-dd2d7b3e1cdf",
   "metadata": {},
   "outputs": [],
   "source": [
    "df['PLACE'] = df['PLACE'].str.replace('4 Bungalows|7 Andheri|Azad Nagar|Near Andheri Station|Veera Desai Area|Mahakali','Andheri',regex=True)\n",
    "df['PLACE'] = df['PLACE'].str.replace('Bandra Kurla Complex','Bandra',regex=True)\n",
    "df['PLACE'] = df['PLACE'].str.replace('CBD-Belapur','CBD Belapur',regex=True)\n",
    "df['PLACE'] = df['PLACE'].str.replace('Girgaon Chowpatty','Chowpatty',regex=True)\n",
    "df['PLACE'] = df['PLACE'].str.replace('Dadar Shivaji Park','Dadar',regex=True)\n",
    "df['PLACE'] = df['PLACE'].str.replace('Flea Bazaar Café|Kamala Mills Compound','Lower Parel',regex=True)\n",
    "df['PLACE'] = df['PLACE'].str.replace('Runwal Green','Mulund',regex=True)\n",
    "df['PLACE'] = df['PLACE'].str.replace('Mumbai CST Area','Mumbai Central',regex=True)\n",
    "df['PLACE'] = df['PLACE'].str.replace('Kopar Khairane|Ulwe','Navi Mumbai',regex=True)\n",
    "df['PLACE'] = df['PLACE'].str.replace('New Panvel|Old Panvel','Panvel',regex=True)\n",
    "df['PLACE'] = df['PLACE'].str.replace('Kamothe','Sion',regex=True)\n",
    "df['PLACE'] = df['PLACE'].str.replace('Ghodbunder Road|Majiwada','Thane',regex=True)"
   ]
  },
  {
   "cell_type": "code",
   "execution_count": 36,
   "id": "cbc3ee29-366f-495b-b9f1-ef0385605643",
   "metadata": {},
   "outputs": [
    {
     "data": {
      "text/plain": [
       "array(['Bandra', 'Mahim', 'Juhu', 'Lower Parel', 'Marol', 'Andheri',\n",
       "       'Dadar', 'Khar', 'Mumbai Central', 'Bhandup', 'Malad', 'Powai',\n",
       "       'Chembur', 'Goregaon', 'Vile Parle', 'CBD Belapur', 'Borivali',\n",
       "       'Vasai', 'Thane', 'Parel', 'Colaba', 'Nariman Point', 'Santacruz',\n",
       "       'Mulund', 'Kandivali', 'Airoli', 'Mira Road', 'Fort', 'Jogeshwari',\n",
       "       'Vashi', 'Ghatkopar', 'Byculla', 'Kalyan', 'Bhayandar', 'Sakinaka',\n",
       "       'Charni Road', 'Chandivali', 'Mohammad Ali Road', 'Kharghar',\n",
       "       'Matunga', 'Worli', 'Ulhasnagar', 'Navi Mumbai', 'Dahisar',\n",
       "       'Seawoods', 'Kurla', 'Chowpatty', 'Panvel', 'Sion', 'Tardeo',\n",
       "       'Mazgaon', 'Prabhadevi', 'Sanpada', 'Ghansoli', 'Virar', 'Girgaum',\n",
       "       'Mumbra', 'Marve', 'Marine Lines', 'Mahalaxmi', 'Chakala',\n",
       "       'Nalasopara', 'Kalwa', 'Nerul', 'Grant Road', 'Breach Candy',\n",
       "       'Churchgate', 'Vikhroli', 'Kalbadevi', 'Dombivali', 'Kemps Corner',\n",
       "       'Malabar Hill', 'Turbhe', 'Kalamboli', 'Wadala', 'Alibaug',\n",
       "       'Peddar Road', 'Ambernath', 'Gorai', 'Sewri', 'Cuffe Parade'],\n",
       "      dtype=object)"
      ]
     },
     "execution_count": 36,
     "metadata": {},
     "output_type": "execute_result"
    }
   ],
   "source": [
    "df['PLACE'].unique()"
   ]
  },
  {
   "cell_type": "markdown",
   "id": "e4e277bc-855e-4c59-a2a7-6ce88a04f5d8",
   "metadata": {},
   "source": [
    "## The Timing Column\n",
    "It has a lot of values inside it, and thus, I decided to separate the timings from the days, as almost all the restaurants were open from Monday to Sunday. I also confirmed that there are no null values inside."
   ]
  },
  {
   "cell_type": "code",
   "execution_count": 37,
   "id": "f5f93d57-b31c-4e42-94d2-418590882416",
   "metadata": {},
   "outputs": [],
   "source": [
    "df['TIMING'] = df['TIMING'].str.split(\"(\", n = 1, expand = True)[0]"
   ]
  },
  {
   "cell_type": "code",
   "execution_count": null,
   "id": "8e2aedfe-34f5-401c-b826-88870622e694",
   "metadata": {},
   "outputs": [],
   "source": []
  },
  {
   "cell_type": "code",
   "execution_count": 38,
   "id": "b5915cf4-fc7c-4764-abc8-35d57ab3fc68",
   "metadata": {},
   "outputs": [
    {
     "data": {
      "text/plain": [
       "0    12noon to 130am\n",
       "1         2pm to 1am\n",
       "2      12noon to 1am\n",
       "3    12noon to 130am\n",
       "4      1130am to 1am\n",
       "Name: TIMING, dtype: object"
      ]
     },
     "execution_count": 38,
     "metadata": {},
     "output_type": "execute_result"
    }
   ],
   "source": [
    "df['TIMING'].head()"
   ]
  },
  {
   "cell_type": "code",
   "execution_count": 39,
   "id": "23946744-5ae6-4bff-8821-3e4455e4f03f",
   "metadata": {},
   "outputs": [
    {
     "data": {
      "text/plain": [
       "np.int64(0)"
      ]
     },
     "execution_count": 39,
     "metadata": {},
     "output_type": "execute_result"
    }
   ],
   "source": [
    "df['TIMING'].isnull().sum()"
   ]
  },
  {
   "cell_type": "markdown",
   "id": "0f6df51b-20fa-4f91-825f-55bacc491c8b",
   "metadata": {},
   "source": [
    "## The Cuisine Category Column\n",
    "Even though the 'RESTAURANT_TYPE' column tells us the type of food they serve, this column has a detailed explanation of the cuisines provided. Thus, I used the function explode(), which made the strings into lists with different cuisines, which were separated by a comma."
   ]
  },
  {
   "cell_type": "code",
   "execution_count": 41,
   "id": "9d645fb8-a58a-49ba-abf1-182ffd42a76c",
   "metadata": {},
   "outputs": [],
   "source": [
    "df['CUISINE_CATEGORY'] = df['CUISINE_CATEGORY'].str.split(',')"
   ]
  },
  {
   "cell_type": "code",
   "execution_count": 42,
   "id": "e0f1ab92-52e6-4d82-bea5-d869fe770cc6",
   "metadata": {},
   "outputs": [
    {
     "data": {
      "text/plain": [
       "CUISINE_CATEGORY\n",
       "Chinese         5231\n",
       "North Indian    5170\n",
       "Fast Food       2737\n",
       "South Indian    1307\n",
       "Mughlai         1157\n",
       "                ... \n",
       "Pakistani          1\n",
       "Raw Meats          1\n",
       "Nepalese           1\n",
       "Armenian           1\n",
       "Oriya              1\n",
       "Name: count, Length: 117, dtype: int64"
      ]
     },
     "execution_count": 42,
     "metadata": {},
     "output_type": "execute_result"
    }
   ],
   "source": [
    "df['CUISINE_CATEGORY'].explode().value_counts()"
   ]
  },
  {
   "cell_type": "code",
   "execution_count": 43,
   "id": "a7528215-036d-4730-bba1-6e8bd1211f99",
   "metadata": {},
   "outputs": [
    {
     "data": {
      "text/plain": [
       "array(['Modern Indian', 'North Indian', 'Chinese', 'Momos', 'Biryani',\n",
       "       'Continental', 'American', 'Fast Food', 'Desserts', 'Ice Cream',\n",
       "       'Beverages', 'Asian', 'Street Food', 'Lucknowi', 'Mexican',\n",
       "       'Italian', 'Mughlai', 'Thai', 'European', 'Seafood', 'Finger Food',\n",
       "       'Burger', 'Salad', 'Healthy Food', 'Middle Eastern', 'Lebanese',\n",
       "       'Kebab', 'Cafe', 'Sandwich', 'Iranian', 'Bakery', 'South Indian',\n",
       "       'Maharashtrian', 'Pizza', 'Mediterranean', 'North Eastern',\n",
       "       'Andhra', 'Mithai', 'Japanese', 'Sushi', 'Rolls', 'Parsi',\n",
       "       'Juices', 'Malwani', 'French', 'Indian', 'Malaysian',\n",
       "       'Roast Chicken', 'BBQ', 'Goan', 'Konkan', 'Mangalorean',\n",
       "       'Chettinad', 'Sindhi', 'Burmese', 'Coffee', 'Korean', 'Gujarati',\n",
       "       'Bengali', 'Kerala', 'Vietnamese', 'Singaporean', 'Indonesian',\n",
       "       'Turkish', 'Arabian', 'British', 'Tea', 'Mishti', 'Tamil',\n",
       "       'Bar Food', 'Awadhi', 'Rajasthani', 'Wraps', 'Charcoal Chicken',\n",
       "       'Steak', 'Spanish', 'German', 'Vegetarian', 'Bohri', 'Greek',\n",
       "       'Cafe Food', 'Afghan', 'Brazilian', 'Peruvian', 'South American',\n",
       "       'Hyderabadi', 'Tibetan', 'Kashmiri', 'Cuisine Varies', 'Assamese',\n",
       "       'Panini', 'Oriental', 'Grill', 'Vegan', 'Bubble Tea',\n",
       "       'Frozen Yogurt', 'Cantonese', 'Mongolian', 'Paan', 'Fusion',\n",
       "       'Bihari', 'Coffee and Tea', 'Pub Food', 'Asian Fusion', 'Tex-Mex',\n",
       "       'Sri Lankan', 'Belgian', 'Deli', 'Chili', 'Fried Chicken',\n",
       "       'Israeli', 'Pakistani', 'Patisserie', 'Raw Meats', 'Nepalese',\n",
       "       'Armenian', 'Oriya'], dtype=object)"
      ]
     },
     "execution_count": 43,
     "metadata": {},
     "output_type": "execute_result"
    }
   ],
   "source": [
    "df['CUISINE_CATEGORY'].explode().unique()"
   ]
  },
  {
   "cell_type": "code",
   "execution_count": 44,
   "id": "fa23c0b1-cb57-47ac-abbe-fff89dbb54a2",
   "metadata": {},
   "outputs": [
    {
     "data": {
      "text/plain": [
       "CUISINE_CATEGORY\n",
       "Chinese         5231\n",
       "North Indian    5170\n",
       "Fast Food       2737\n",
       "South Indian    1307\n",
       "Mughlai         1157\n",
       "Name: count, dtype: int64"
      ]
     },
     "execution_count": 44,
     "metadata": {},
     "output_type": "execute_result"
    }
   ],
   "source": [
    "df['CUISINE_CATEGORY'].explode().value_counts().nlargest(5)"
   ]
  },
  {
   "cell_type": "code",
   "execution_count": 45,
   "id": "1d72f262-04df-4f8c-a8ed-45c1c49355a2",
   "metadata": {},
   "outputs": [
    {
     "data": {
      "text/plain": [
       "array(['Casual Dining', 'Dessert Parlor', 'Bar', 'Café', 'Quick Bites',\n",
       "       'Bakery', 'Sweet Shop', 'none', 'Food Court', 'Fine Dining',\n",
       "       'Beverage Shop', 'Pub', 'Food Truck', 'Dhaba', 'Lounge', 'Kiosk',\n",
       "       'Microbrewery', 'Paan Shop', 'Irani Cafe', 'Confectionery', 'Mess',\n",
       "       'Bhojanalya'], dtype=object)"
      ]
     },
     "execution_count": 45,
     "metadata": {},
     "output_type": "execute_result"
    }
   ],
   "source": [
    "df['RESTAURANT_TYPE'].unique()"
   ]
  },
  {
   "cell_type": "markdown",
   "id": "2f67bba4-a14c-48c1-be38-8d27f21cadb5",
   "metadata": {},
   "source": [
    "## Download The Data\n",
    "As I have taken a lot of effort to modify the data according to my needs, I want to download it so that I can freely use it for my dashboard making.\n",
    "\n",
    "I downloaded my modified dataset as a CSV file."
   ]
  },
  {
   "cell_type": "code",
   "execution_count": 46,
   "id": "7b7e5089-2b41-40d0-910c-085ccd1be647",
   "metadata": {},
   "outputs": [],
   "source": [
    "df.to_csv('Mumbai_Restaurants.csv', index=False)"
   ]
  },
  {
   "cell_type": "code",
   "execution_count": 176,
   "id": "bd2dd6fa-2672-4377-ae70-8f15a4a54680",
   "metadata": {},
   "outputs": [
    {
     "data": {
      "text/html": [
       "<a href='Mumbai_Restaurants.csv' target='_blank'>Mumbai_Restaurants.csv</a><br>"
      ],
      "text/plain": [
       "/Users/mwp52/Downloads/Mumbai_Restaurants.csv"
      ]
     },
     "execution_count": 176,
     "metadata": {},
     "output_type": "execute_result"
    }
   ],
   "source": [
    "from IPython.display import FileLink\n",
    "FileLink('Mumbai_Restaurants.csv')"
   ]
  }
 ],
 "metadata": {
  "kernelspec": {
   "display_name": "Python 3 (ipykernel)",
   "language": "python",
   "name": "python3"
  },
  "language_info": {
   "codemirror_mode": {
    "name": "ipython",
    "version": 3
   },
   "file_extension": ".py",
   "mimetype": "text/x-python",
   "name": "python",
   "nbconvert_exporter": "python",
   "pygments_lexer": "ipython3",
   "version": "3.13.2"
  }
 },
 "nbformat": 4,
 "nbformat_minor": 5
}
